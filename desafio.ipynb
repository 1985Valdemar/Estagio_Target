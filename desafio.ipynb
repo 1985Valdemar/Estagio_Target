{
 "cells": [
  {
   "cell_type": "markdown",
   "metadata": {},
   "source": [
    "1) Observe o trecho de código abaixo:\n",
    "\n",
    "int INDICE = 13, SOMA = 0, K = 0;\n",
    "\n",
    "enquanto K < INDICE faça\n",
    "\n",
    "{\n",
    "\n",
    "K = K + 1;\n",
    "\n",
    "SOMA = SOMA + K;\n",
    "\n",
    "}\n",
    "\n",
    "imprimir(SOMA);\n",
    "\n",
    "Ao final do processamento, qual será o valor da variável SOMA?"
   ]
  },
  {
   "cell_type": "code",
   "execution_count": 2,
   "metadata": {},
   "outputs": [
    {
     "name": "stdout",
     "output_type": "stream",
     "text": [
      "91\n"
     ]
    }
   ],
   "source": [
    "INDICE = 13\n",
    "SOMA = 0\n",
    "K = 0\n",
    "\n",
    "while K < INDICE:\n",
    "    K = K + 1\n",
    "    SOMA = SOMA + K\n",
    "\n",
    "print(SOMA)\n"
   ]
  },
  {
   "cell_type": "markdown",
   "metadata": {},
   "source": [
    "\n",
    "2) Dado a sequência de Fibonacci, onde se inicia por 0 e 1 e o próximo valor sempre será a soma dos 2 valores anteriores (exemplo: 0, 1, 1, 2, 3, 5, 8, 13, 21, 34...), escreva um programa na linguagem que desejar onde, informado um número, ele calcule a sequência de Fibonacci e retorne uma mensagem avisando se o número informado pertence ou não a sequência.\n",
    "\n",
    "\n",
    "\n",
    "IMPORTANTE:\n",
    "\n",
    "Esse número pode ser informado através de qualquer entrada de sua preferência ou pode ser previamente definido no código;\n",
    "\n"
   ]
  },
  {
   "cell_type": "code",
   "execution_count": 14,
   "metadata": {},
   "outputs": [
    {
     "name": "stdout",
     "output_type": "stream",
     "text": [
      "34 pertence à sequência de Fibonacci.\n"
     ]
    }
   ],
   "source": [
    "def pertence_a_fibonacci(numero):\n",
    "    a, b = 0, 1\n",
    "    while a <= numero:\n",
    "        if a == numero:\n",
    "            return True\n",
    "        a, b = b, a + b\n",
    "    return False\n",
    "\n",
    "# Exemplo de uso\n",
    "numero_informado = int(input(\"Informe um número: \"))\n",
    "if pertence_a_fibonacci(numero_informado):\n",
    "    print(f\"{numero_informado} pertence à sequência de Fibonacci.\")\n",
    "else:\n",
    "    print(f\"{numero_informado} não pertence à sequência de Fibonacci.\")\n"
   ]
  },
  {
   "cell_type": "markdown",
   "metadata": {},
   "source": [
    "3) Descubra a lógica e complete o próximo elemento:\n",
    "   \n",
    "a) 1, 3, 5, 7, ___\n",
    "\n",
    "A lógica aqui é adicionar 2 a cada passo. Portanto, o próximo elemento será 7 + 2 = 9.\n",
    "\n",
    "b) 2, 4, 8, 16, 32, 64, ___\n",
    "\n",
    "Cada passo é obtido multiplicando o passo anterior por 2. O próximo elemento será 64 * 2 = 128.\n",
    "\n",
    "c) 0, 1, 4, 9, 16, 25, 36, ___\n",
    "\n",
    "Cada passo é o quadrado do número natural correspondente (0, 1, 2, 3, ...). O próximo elemento será 6^2 = 36.\n",
    "\n",
    "d) 4, 16, 36, 64, ___\n",
    "\n",
    "Cada passo é o quadrado do número natural correspondente (2, 4, 6, 8, ...). O próximo elemento será 8^2 = 64.\n",
    "\n",
    "e) 1, 1, 2, 3, 5, 8, ___\n",
    "\n",
    "Esta é a conhecida sequência de Fibonacci, onde cada passo é a soma dos dois anteriores. O próximo elemento será 8 + 5 = 13.\n",
    "\n",
    "f) 2, 10, 12, 16, 17, 18, 19, ___\n",
    "A lógica aqui é progressão aritmética, onde cada passo é obtido adicionando 8, 2, 4, 1, 1, 1 ao passo anterior. O próximo elemento será 19 + 1 = 20.\n",
    "\n"
   ]
  },
  {
   "cell_type": "markdown",
   "metadata": {},
   "source": [
    "4) Você está em uma sala com três interruptores, cada um conectado a uma lâmpada em uma sala diferente. Você não pode ver as lâmpadas da sala em que está, mas pode ligar e desligar os interruptores quantas vezes quiser. Seu objetivo é descobrir qual interruptor controla qual lâmpada.\n",
    "\n",
    "Como você faria para descobrir, usando apenas duas idas até uma das salas das lâmpadas, qual interruptor controla cada lâmpada?\n",
    "\n",
    "ligaria dois interruptores e iria até a sala, anotava quais lâmpadas ligadas e voltaria e desligava o primeiro, assim, quando voltasse, saberia que o primeiro interruptor controla a luz que desligou anotaria e o segunto interruptor controla o que está aceso e o terceiro interruptor controla a que não sofreu ação."
   ]
  },
  {
   "cell_type": "markdown",
   "metadata": {},
   "source": [
    "5) Escreva um programa que inverta os caracteres de um string.\n",
    "\n",
    "\n",
    "IMPORTANTE:\n",
    "\n",
    "a) Essa string pode ser informada através de qualquer entrada de sua preferência ou pode ser previamente definida no código;\n",
    "\n",
    "b) Evite usar funções prontas, como, por exemplo, reverse;"
   ]
  },
  {
   "cell_type": "code",
   "execution_count": 30,
   "metadata": {},
   "outputs": [
    {
     "name": "stdout",
     "output_type": "stream",
     "text": [
      "Borá Brincar, Vamos Inverter as Palavras, Digite Uma e Veja Mágica Acontecer\n",
      "String Digitada: Valdemar\n",
      "String Invertida: ramedlaV\n"
     ]
    }
   ],
   "source": [
    "def inverte_string(s):\n",
    "    print(\"Borá Brincar, Vamos Inverter as Palavras, Digite Uma e Veja Mágica Acontecer\")\n",
    "\n",
    "    # Solicita a entrada do usuário\n",
    "    entrada_string = input(\"Informe uma string: \")\n",
    "\n",
    "    # Converte a string para uma lista de caracteres e inverte usando slicing\n",
    "    caracteres_invertidos = entrada_string[::-1]\n",
    "\n",
    "    # Imprime a string original e a invertida\n",
    "    print(f\"String Digitada: {entrada_string}\")\n",
    "    print(f\"String Invertida: {caracteres_invertidos}\")\n",
    "\n",
    "# Chama a função\n",
    "inverte_string(\"\")\n"
   ]
  }
 ],
 "metadata": {
  "kernelspec": {
   "display_name": "Python 3",
   "language": "python",
   "name": "python3"
  },
  "language_info": {
   "codemirror_mode": {
    "name": "ipython",
    "version": 3
   },
   "file_extension": ".py",
   "mimetype": "text/x-python",
   "name": "python",
   "nbconvert_exporter": "python",
   "pygments_lexer": "ipython3",
   "version": "3.12.0"
  }
 },
 "nbformat": 4,
 "nbformat_minor": 2
}
